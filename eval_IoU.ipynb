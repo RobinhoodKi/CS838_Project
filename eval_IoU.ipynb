{
 "cells": [
  {
   "cell_type": "code",
   "execution_count": 1,
   "metadata": {},
   "outputs": [],
   "source": [
    "import os\n",
    "import numpy as np\n",
    "import skimage.io as io\n",
    "import matplotlib.pyplot as plt\n",
    "%matplotlib inline\n",
    "import pickle"
   ]
  },
  {
   "cell_type": "code",
   "execution_count": 2,
   "metadata": {},
   "outputs": [],
   "source": [
    "def list_files(dirn):\n",
    "    return [os.path.join(dirn, f) for f in sorted(os.listdir(dirn))]\n",
    "\n",
    "def split_label(lab):\n",
    "    \"\"\"\n",
    "    given the color code of each class,\n",
    "    split label images (H, W, C: RGB) into (H, W, N:number of classes)\n",
    "    \n",
    "    Params:\n",
    "        @lab: label image\n",
    "    \n",
    "    Return:\n",
    "        @res: the mask of every class stacked in the form of (H,W,N)\n",
    "    \"\"\"\n",
    "    color_code = {\n",
    "        'background': [255,255,255],\n",
    "        'red': [200,0,0],\n",
    "        'orange': [100,0,10],\n",
    "        'green': [0, 100, 10],\n",
    "        'blue': [0, 10, 100]\n",
    "    }\n",
    "    a = lab.reshape(-1,3)\n",
    "    \n",
    "    res = []\n",
    "    for name, color in color_code.items():\n",
    "        tmp = np.array([sum(c==np.array(color))==3 for c in a])\n",
    "        tmp = tmp.reshape(lab.shape[:2]).astype(np.uint8)\n",
    "        res.append(tmp)\n",
    "    return np.stack(res, axis=2)\n",
    "\n",
    "def split_pred(pred):\n",
    "    u_label = np.unique(pred)\n",
    "    res = []\n",
    "    for u in u_label:\n",
    "        tmp = np.array(pred == u).astype(np.uint8)\n",
    "        res.append(tmp)\n",
    "    return np.stack(res, axis=2)\n",
    "\n",
    "def max_mIoU(label_mask, pred_possible_mask):\n",
    "    \"\"\"\n",
    "    Find the maximum intersect over the union (IoU) between a mask of one label and all possible masks.\n",
    "    \n",
    "    \n",
    "    Params:\n",
    "        @label_mask: label mask (H,W,Nc)\n",
    "        @pred_possible_mask: mask of the prediction (H,W,N)\n",
    "    \n",
    "    Return:\n",
    "        @iou_list: a list of IoU value of each label class\n",
    "        \n",
    "    Procedures:\n",
    "        1. For one label class, we calculate the intersect with all possible prediction masks.\n",
    "        2. Then, we select out the prediction mask with maximum intersect as the predicted \n",
    "        masks to calculate the IoU for that class.\n",
    "        3. Repeat 1,2 for every label class\n",
    "        \n",
    "    \"\"\"\n",
    "    n_label = label_mask.shape[-1]\n",
    "    \n",
    "    iou_list = []\n",
    "    used = []\n",
    "    for i in range(n_label):\n",
    "        # take out a mask of one label\n",
    "        one_label_mask = label_mask[:,:,i:i+1]\n",
    "        # calculate the intersect with each possible mask\n",
    "        counts = np.sum(one_label_mask*pred_possible_mask, axis=(0,1))\n",
    "        imax = np.argmax(counts)\n",
    "        while(imax in used):\n",
    "            counts[imax] = 0\n",
    "            imax = np.argmax(counts)\n",
    "        used.append(imax)\n",
    "        iou = counts[np.argmax(counts)]/np.sum(one_label_mask)\n",
    "        iou_list.append(iou)\n",
    "    return iou_list"
   ]
  },
  {
   "cell_type": "code",
   "execution_count": 4,
   "metadata": {},
   "outputs": [],
   "source": [
    "labels = list_files(\"outputs/labels/\")\n",
    "\n",
    "label_dict = {}\n",
    "for l in labels:\n",
    "    a = io.imread(l)\n",
    "    aa = split_label(a)\n",
    "    label_dict[os.path.basename(l)] = aa\n",
    "    \n",
    "with open('outputs/label_masks.pickle', 'wb') as handle:\n",
    "    pickle.dump(label_dict, handle, protocol=pickle.HIGHEST_PROTOCOL)"
   ]
  },
  {
   "cell_type": "code",
   "execution_count": 5,
   "metadata": {},
   "outputs": [],
   "source": [
    "with open('outputs/label_masks.pickle', 'rb') as handle:\n",
    "    labels = pickle.load(handle)"
   ]
  },
  {
   "cell_type": "code",
   "execution_count": 6,
   "metadata": {},
   "outputs": [],
   "source": [
    "dir_list = [\"outputs/mean_shift/\", \n",
    "            \"outputs/k-means/k5/\", \n",
    "            \"outputs/k-means/k10/\", \n",
    "            \"outputs/min_cut/\", \n",
    "            \"outputs/superpixel/\", \n",
    "            \"outputs/test/\"]"
   ]
  },
  {
   "cell_type": "code",
   "execution_count": 12,
   "metadata": {},
   "outputs": [],
   "source": [
    "all_res = {}\n",
    "for dirn in dir_list:\n",
    "    files = [f for f in list_files(dirn) if '.png' in f or '.jpg' in f or '.bmp' in f]\n",
    "    dirn_res = []\n",
    "    for f in files:\n",
    "        pred = io.imread(f, as_gray=True)\n",
    "        pred = split_pred(pred)\n",
    "        true = labels[os.path.basename(f)]\n",
    "        dirn_res.append(max_mIoU(true, pred))\n",
    "    all_res[dirn] = dirn_res"
   ]
  },
  {
   "cell_type": "code",
   "execution_count": 15,
   "metadata": {},
   "outputs": [
    {
     "name": "stdout",
     "output_type": "stream",
     "text": [
      "overall performance \t\t\t average IoU per class \t\t\t\t method\n",
      "0.36424653618657826 \t [0.82912781 0.3730021  0.40570626 0.06400253 0.14939398] \t outputs/mean_shift/\n",
      "0.40484692118803245 \t [0.83030628 0.39226822 0.36578747 0.37104455 0.06482809] \t outputs/k-means/k5/\n",
      "0.3789222103289222 \t [0.74430909 0.23747528 0.2546463  0.22855035 0.42963003] \t outputs/k-means/k10/\n",
      "0.16315805636157593 \t [0.29848504 0.06932657 0.05865145 0.10335814 0.28596908] \t outputs/min_cut/\n",
      "0.5567872695803221 \t [0.69264395 0.48682731 0.49708074 0.42147785 0.6859065 ] \t outputs/superpixel/\n",
      "0.5781003618932057 \t [0.80408953 0.49427817 0.39945016 0.58076309 0.61192086] \t outputs/test/\n"
     ]
    }
   ],
   "source": [
    "print(\"overall performance \\t\\t\\t average IoU per class \\t\\t\\t\\t method\")\n",
    "for n, mat in all_res.items():\n",
    "    m = np.array(mat)\n",
    "    print(np.mean(m),'\\t', np.mean(m, axis=0), '\\t',n)"
   ]
  },
  {
   "cell_type": "code",
   "execution_count": null,
   "metadata": {},
   "outputs": [],
   "source": []
  }
 ],
 "metadata": {
  "kernelspec": {
   "display_name": "Python 3",
   "language": "python",
   "name": "python3"
  },
  "language_info": {
   "codemirror_mode": {
    "name": "ipython",
    "version": 3
   },
   "file_extension": ".py",
   "mimetype": "text/x-python",
   "name": "python",
   "nbconvert_exporter": "python",
   "pygments_lexer": "ipython3",
   "version": "3.6.3"
  }
 },
 "nbformat": 4,
 "nbformat_minor": 2
}
